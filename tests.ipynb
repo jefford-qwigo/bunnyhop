{
 "cells": [
  {
   "cell_type": "markdown",
   "metadata": {},
   "source": [
    "## Setup"
   ]
  },
  {
   "cell_type": "code",
   "execution_count": 1,
   "metadata": {},
   "outputs": [],
   "source": [
    "from bunnyhop import Bunny\n",
    "import os\n",
    "# Brian\n",
    "# b = Bunny('be7ac1c1-7b39-4003-a2af-be42c611da32fa0fe844-ec79-4d83-9386-5bd3ab98207f')\n",
    "# Personal\n",
    "b = Bunny('1f3300ee-1742-4f44-985d-367362f37b9fd5347585-20b7-46ba-a6df-19f1a750960a')"
   ]
  },
  {
   "cell_type": "code",
   "execution_count": 2,
   "metadata": {},
   "outputs": [
    {
     "data": {
      "text/plain": [
       "[<StorageZone: sample-storage >, <StorageZone: sample-storage-2 >]"
      ]
     },
     "execution_count": 2,
     "metadata": {},
     "output_type": "execute_result"
    }
   ],
   "source": [
    "storage = b.Storage.all()\n",
    "storage"
   ]
  },
  {
   "cell_type": "code",
   "execution_count": 3,
   "metadata": {},
   "outputs": [
    {
     "data": {
      "text/plain": [
       "<StorageZone: sample-storage >"
      ]
     },
     "execution_count": 3,
     "metadata": {},
     "output_type": "execute_result"
    }
   ],
   "source": [
    "sample_storage = storage[0]\n",
    "sample_storage"
   ]
  },
  {
   "cell_type": "markdown",
   "metadata": {},
   "source": [
    "### Creating Storage + failure"
   ]
  },
  {
   "cell_type": "code",
   "execution_count": 12,
   "metadata": {},
   "outputs": [
    {
     "ename": "Exception",
     "evalue": "Error: storagezone.name_taken Message: The storage zone name is already taken.",
     "output_type": "error",
     "traceback": [
      "\u001b[0;31m---------------------------------------------------------------------------\u001b[0m",
      "\u001b[0;31mException\u001b[0m                                 Traceback (most recent call last)",
      "\u001b[0;32m<ipython-input-12-ed688d187cdd>\u001b[0m in \u001b[0;36m<module>\u001b[0;34m\u001b[0m\n\u001b[0;32m----> 1\u001b[0;31m \u001b[0mtmp_storage\u001b[0m \u001b[0;34m=\u001b[0m \u001b[0mb\u001b[0m\u001b[0;34m.\u001b[0m\u001b[0mStorage\u001b[0m\u001b[0;34m.\u001b[0m\u001b[0mcreate\u001b[0m\u001b[0;34m(\u001b[0m\u001b[0mname\u001b[0m\u001b[0;34m=\u001b[0m\u001b[0;34m'sample-storage-3'\u001b[0m\u001b[0;34m,\u001b[0m\u001b[0mmain_storage_region\u001b[0m\u001b[0;34m=\u001b[0m\u001b[0;34m'NY'\u001b[0m\u001b[0;34m)\u001b[0m\u001b[0;34m\u001b[0m\u001b[0;34m\u001b[0m\u001b[0m\n\u001b[0m\u001b[1;32m      2\u001b[0m \u001b[0mtmp_storage\u001b[0m\u001b[0;34m\u001b[0m\u001b[0;34m\u001b[0m\u001b[0m\n",
      "\u001b[0;32m/code/bunnyhop/storage.py\u001b[0m in \u001b[0;36mcreate\u001b[0;34m(self, name, main_storage_region, replica_regions)\u001b[0m\n\u001b[1;32m     21\u001b[0m             \u001b[0;32mreturn\u001b[0m \u001b[0mStorageZone\u001b[0m\u001b[0;34m(\u001b[0m\u001b[0mresponse\u001b[0m\u001b[0;34m.\u001b[0m\u001b[0mget\u001b[0m\u001b[0;34m(\u001b[0m\u001b[0;34m'Password'\u001b[0m\u001b[0;34m)\u001b[0m\u001b[0;34m,\u001b[0m \u001b[0;34m**\u001b[0m\u001b[0mresponse\u001b[0m\u001b[0;34m)\u001b[0m\u001b[0;34m\u001b[0m\u001b[0;34m\u001b[0m\u001b[0m\n\u001b[1;32m     22\u001b[0m         \u001b[0;32melse\u001b[0m\u001b[0;34m:\u001b[0m\u001b[0;34m\u001b[0m\u001b[0;34m\u001b[0m\u001b[0m\n\u001b[0;32m---> 23\u001b[0;31m             \u001b[0;32mraise\u001b[0m \u001b[0mException\u001b[0m\u001b[0;34m(\u001b[0m\u001b[0;34mf\"Error: {response.get('ErrorKey', None)} Message: {response.get('Message','')}\"\u001b[0m\u001b[0;34m)\u001b[0m\u001b[0;34m\u001b[0m\u001b[0;34m\u001b[0m\u001b[0m\n\u001b[0m\u001b[1;32m     24\u001b[0m \u001b[0;34m\u001b[0m\u001b[0m\n\u001b[1;32m     25\u001b[0m     \u001b[0;32mdef\u001b[0m \u001b[0mall\u001b[0m\u001b[0;34m(\u001b[0m\u001b[0mself\u001b[0m\u001b[0;34m)\u001b[0m\u001b[0;34m:\u001b[0m\u001b[0;34m\u001b[0m\u001b[0;34m\u001b[0m\u001b[0m\n",
      "\u001b[0;31mException\u001b[0m: Error: storagezone.name_taken Message: The storage zone name is already taken."
     ]
    }
   ],
   "source": [
    "tmp_storage = b.Storage.create(name='sample-storage-3',main_storage_region='NY')\n",
    "tmp_storage"
   ]
  },
  {
   "cell_type": "markdown",
   "metadata": {},
   "source": [
    "### Viewing Storages"
   ]
  },
  {
   "cell_type": "code",
   "execution_count": 14,
   "metadata": {},
   "outputs": [
    {
     "data": {
      "text/plain": [
       "[<StorageObject: /sample-storage/test >,\n",
       " <StorageObject: /sample-storage/test2 >]"
      ]
     },
     "execution_count": 14,
     "metadata": {},
     "output_type": "execute_result"
    }
   ],
   "source": [
    "sample_storage.all()"
   ]
  },
  {
   "cell_type": "code",
   "execution_count": 6,
   "metadata": {
    "collapsed": true
   },
   "outputs": [
    {
     "data": {
      "text/plain": [
       "b'import argparse\\nimport unittest\\nfrom envs import env\\nfrom bunnyhop import Bunny\\n\\nBUNNYCDN_API_KEY = env(\\'BUNNYCDN_API_KEY\\')\\nBUNNYCDN_TEST_STORAGE_ZONE = env(\\'BUNNYCDN_TEST_STORAGE_ZONE\\')\\nBUNNYCDN_TEST_STORAGE_ZONE_NAME = env(\\'BUNNYCDN_TEST_STORAGE_ZONE_NAME\\')\\nBUNNYCDN_TEST_PULL_ZONE = env(\\'BUNNYCDN_TEST_PULL_ZONE\\')\\n\\n\\nclass TestBilling(unittest.TestCase):\\n    @classmethod\\n    def setUpClass(cls):\\n        cls.b = Bunny(BUNNYCDN_API_KEY)\\n\\n    @classmethod\\n    def tearDownClass(cls):\\n        cls.b = None\\n\\n    def test_get(self):\\n        from bunnyhop.billing import BillingSummary\\n        response = self.b.Billing.get()\\n        self.assertIsInstance(response, BillingSummary)\\n\\n    def test_apply_code(self):\\n        response = self.b.Billing.apply_code(\\'dummy-code\\')\\n        self.assertEqual(response[\\'ErrorKey\\'], \\'code.invalid\\')\\n\\n\\nclass TestStats(unittest.TestCase):\\n\\n    @classmethod\\n    def setUpClass(cls):\\n        cls.b = Bunny(BUNNYCDN_API_KEY)\\n\\n    @classmethod\\n    def tearDownClass(cls):\\n        cls.b = None\\n\\n    def test_get(self):\\n        from bunnyhop.stats import Stats\\n        response = self.b.Stats.get()\\n        self.assertIsInstance(response, Stats)\\n\\n\\nclass TestPurge(unittest.TestCase):\\n\\n    @classmethod\\n    def setUpClass(cls):\\n        cls.b = Bunny(BUNNYCDN_API_KEY)\\n\\n    @classmethod\\n    def tearDownClass(cls):\\n        cls.b = None\\n\\n    def test_create(self):\\n        response = self.b.Purge.create(\"http://non-existentmyzone.b-cdn.net/\")\\n        self.assertEqual(response[\\'ErrorKey\\'], \\'purge.hostname_not_found\\')\\n\\n\\nclass TestStorageZone(unittest.TestCase):\\n\\n    @classmethod\\n    def setUpClass(cls):\\n        cls.b = Bunny(BUNNYCDN_API_KEY)\\n\\n    @classmethod\\n    def tearDownClass(cls):\\n        cls.b = None\\n\\n    def test_get(self):\\n        response = self.b.Storage.get(BUNNYCDN_TEST_STORAGE_ZONE)\\n        self.assertEqual(BUNNYCDN_TEST_STORAGE_ZONE_NAME, response.Name)\\n\\n    def test_delete(self):\\n        response = self.b.Storage.delete(1111)\\n        self.assertEqual(response[\\'ErrorKey\\'], \\'storageZone.not_found\\')\\n\\n    def test_create(self):\\n        response = self.b.Storage.create(1)\\n        self.assertTrue(response[\\'ErrorKey\\'] == \\'storagezone.validation\\' or response[\\'ErrorKey\\'] == \\'user.insufficient_balance\\')\\n\\n    def test_all(self):\\n        response = self.b.Storage.all()\\n        self.assertIsInstance(response, list)\\n\\n\\nclass TestZone(unittest.TestCase):\\n\\n    @classmethod\\n    def setUpClass(cls):\\n        cls.b = Bunny(BUNNYCDN_API_KEY)\\n\\n    @classmethod\\n    def tearDownClass(cls):\\n        cls.b = None\\n\\n    def test_get(self):\\n        response = self.b.Zone.get(\"\")\\n        self.assertEqual(response, \\'Zone not found.\\')\\n\\n    def test_list(self):\\n        response = self.b.Zone.list()\\n        self.assertIsInstance(response, list)\\n\\n    def test_delete(self):\\n        response = self.b.Zone.delete(\\'test\\')\\n        self.assertEqual(response[\\'Message\\'], \\'The request is invalid.\\')\\n\\n    def test_purge(self):\\n        response = self.b.Zone.purge(\\'test\\')\\n        self.assertEqual(response[\\'Message\\'], \\'The request is invalid.\\')\\n\\n\\ndef parse_args():\\n    parser = argparse.ArgumentParser(description=\\'Bunnyhop Unit Test\\')\\n    parser.add_argument(\\'api_key\\', help=\\'valid api_key to run the functions\\',\\n                        metavar=\"api_key\", type=str)\\n    # other arguments here ...\\n    ns, args = parser.parse_known_args(namespace=unittest)\\n    return ns, sys.argv[:1] + args\\n\\n\\nif __name__ == \\'__main__\\':\\n    import sys\\n    args, argv = parse_args()\\n    sys.argv[:] = argv\\n    unittest.main()\\n'"
      ]
     },
     "execution_count": 6,
     "metadata": {},
     "output_type": "execute_result"
    }
   ],
   "source": [
    "sample_storage.get('test')"
   ]
  },
  {
   "cell_type": "code",
   "execution_count": 7,
   "metadata": {},
   "outputs": [
    {
     "ename": "Exception",
     "evalue": "Error:Object Not Found",
     "output_type": "error",
     "traceback": [
      "\u001b[0;31m---------------------------------------------------------------------------\u001b[0m",
      "\u001b[0;31mException\u001b[0m                                 Traceback (most recent call last)",
      "\u001b[0;32m<ipython-input-7-2ced34b930fe>\u001b[0m in \u001b[0;36m<module>\u001b[0;34m\u001b[0m\n\u001b[0;32m----> 1\u001b[0;31m \u001b[0msample_storage\u001b[0m\u001b[0;34m.\u001b[0m\u001b[0mget\u001b[0m\u001b[0;34m(\u001b[0m\u001b[0;34m'nonexistent'\u001b[0m\u001b[0;34m)\u001b[0m\u001b[0;34m\u001b[0m\u001b[0;34m\u001b[0m\u001b[0m\n\u001b[0m",
      "\u001b[0;32m/code/bunnyhop/storage.py\u001b[0m in \u001b[0;36mget\u001b[0;34m(self, file_path)\u001b[0m\n\u001b[1;32m     62\u001b[0m         \u001b[0mresponse\u001b[0m \u001b[0;34m=\u001b[0m \u001b[0mself\u001b[0m\u001b[0;34m.\u001b[0m\u001b[0mcall_storage_api\u001b[0m\u001b[0;34m(\u001b[0m\u001b[0;34mf\"/{self.Name}/{file_path}\"\u001b[0m\u001b[0;34m,\u001b[0m \u001b[0;34m\"GET\"\u001b[0m\u001b[0;34m)\u001b[0m\u001b[0;34m\u001b[0m\u001b[0;34m\u001b[0m\u001b[0m\n\u001b[1;32m     63\u001b[0m         \u001b[0;32mif\u001b[0m \u001b[0misinstance\u001b[0m\u001b[0;34m(\u001b[0m\u001b[0mresponse\u001b[0m\u001b[0;34m,\u001b[0m\u001b[0mdict\u001b[0m\u001b[0;34m)\u001b[0m \u001b[0;32mand\u001b[0m \u001b[0mresponse\u001b[0m\u001b[0;34m.\u001b[0m\u001b[0mget\u001b[0m\u001b[0;34m(\u001b[0m\u001b[0;34m'HttpCode'\u001b[0m\u001b[0;34m,\u001b[0m\u001b[0;36m0\u001b[0m\u001b[0;34m)\u001b[0m \u001b[0;34m==\u001b[0m \u001b[0;36m404\u001b[0m\u001b[0;34m:\u001b[0m\u001b[0;34m\u001b[0m\u001b[0;34m\u001b[0m\u001b[0m\n\u001b[0;32m---> 64\u001b[0;31m             \u001b[0;32mraise\u001b[0m \u001b[0mException\u001b[0m\u001b[0;34m(\u001b[0m\u001b[0;34mf\"Error:{response.get('Message','')}\"\u001b[0m\u001b[0;34m)\u001b[0m\u001b[0;34m\u001b[0m\u001b[0;34m\u001b[0m\u001b[0m\n\u001b[0m\u001b[1;32m     65\u001b[0m         \u001b[0;32mreturn\u001b[0m \u001b[0mresponse\u001b[0m\u001b[0;34m\u001b[0m\u001b[0;34m\u001b[0m\u001b[0m\n\u001b[1;32m     66\u001b[0m \u001b[0;34m\u001b[0m\u001b[0m\n",
      "\u001b[0;31mException\u001b[0m: Error:Object Not Found"
     ]
    }
   ],
   "source": [
    "sample_storage.get('nonexistent')"
   ]
  },
  {
   "cell_type": "code",
   "execution_count": 13,
   "metadata": {},
   "outputs": [
    {
     "data": {
      "text/plain": [
       "<StorageObject: /sample-storage/test2 >"
      ]
     },
     "execution_count": 13,
     "metadata": {},
     "output_type": "execute_result"
    }
   ],
   "source": [
    "sample_storage.get_object('test2')"
   ]
  },
  {
   "cell_type": "code",
   "execution_count": 9,
   "metadata": {},
   "outputs": [
    {
     "ename": "Exception",
     "evalue": "Error:Object Not Found",
     "output_type": "error",
     "traceback": [
      "\u001b[0;31m---------------------------------------------------------------------------\u001b[0m",
      "\u001b[0;31mException\u001b[0m                                 Traceback (most recent call last)",
      "\u001b[0;32m<ipython-input-9-43c03dc7c7e0>\u001b[0m in \u001b[0;36m<module>\u001b[0;34m\u001b[0m\n\u001b[0;32m----> 1\u001b[0;31m \u001b[0msample_storage\u001b[0m\u001b[0;34m.\u001b[0m\u001b[0mget_object\u001b[0m\u001b[0;34m(\u001b[0m\u001b[0;34m'nonexistent'\u001b[0m\u001b[0;34m)\u001b[0m\u001b[0;34m\u001b[0m\u001b[0;34m\u001b[0m\u001b[0m\n\u001b[0m",
      "\u001b[0;32m/code/bunnyhop/storage.py\u001b[0m in \u001b[0;36mget_object\u001b[0;34m(self, file_path)\u001b[0m\n\u001b[1;32m     68\u001b[0m         \u001b[0mresponse\u001b[0m \u001b[0;34m=\u001b[0m \u001b[0mself\u001b[0m\u001b[0;34m.\u001b[0m\u001b[0mcall_storage_api\u001b[0m\u001b[0;34m(\u001b[0m\u001b[0;34mf\"/{self.Name}/{file_path}\"\u001b[0m\u001b[0;34m,\u001b[0m \u001b[0;34m\"GET\"\u001b[0m\u001b[0;34m)\u001b[0m\u001b[0;34m\u001b[0m\u001b[0;34m\u001b[0m\u001b[0m\n\u001b[1;32m     69\u001b[0m         \u001b[0;32mif\u001b[0m \u001b[0misinstance\u001b[0m\u001b[0;34m(\u001b[0m\u001b[0mresponse\u001b[0m\u001b[0;34m,\u001b[0m\u001b[0mdict\u001b[0m\u001b[0;34m)\u001b[0m \u001b[0;32mand\u001b[0m \u001b[0mresponse\u001b[0m\u001b[0;34m.\u001b[0m\u001b[0mget\u001b[0m\u001b[0;34m(\u001b[0m\u001b[0;34m'HttpCode'\u001b[0m\u001b[0;34m,\u001b[0m\u001b[0;36m0\u001b[0m\u001b[0;34m)\u001b[0m \u001b[0;34m==\u001b[0m \u001b[0;36m404\u001b[0m\u001b[0;34m:\u001b[0m\u001b[0;34m\u001b[0m\u001b[0;34m\u001b[0m\u001b[0m\n\u001b[0;32m---> 70\u001b[0;31m             \u001b[0;32mraise\u001b[0m \u001b[0mException\u001b[0m\u001b[0;34m(\u001b[0m\u001b[0;34mf\"Error:{response.get('Message','')}\"\u001b[0m\u001b[0;34m)\u001b[0m\u001b[0;34m\u001b[0m\u001b[0;34m\u001b[0m\u001b[0m\n\u001b[0m\u001b[1;32m     71\u001b[0m         \u001b[0;32mreturn\u001b[0m \u001b[0;34m[\u001b[0m\u001b[0mStorageObject\u001b[0m\u001b[0;34m(\u001b[0m\u001b[0mself\u001b[0m\u001b[0;34m.\u001b[0m\u001b[0mapi_key\u001b[0m\u001b[0;34m,\u001b[0m \u001b[0mself\u001b[0m\u001b[0;34m,\u001b[0m \u001b[0;34m**\u001b[0m\u001b[0mi\u001b[0m\u001b[0;34m)\u001b[0m \u001b[0;32mfor\u001b[0m \u001b[0mi\u001b[0m \u001b[0;32min\u001b[0m \u001b[0mself\u001b[0m\u001b[0;34m.\u001b[0m\u001b[0mcall_storage_api\u001b[0m\u001b[0;34m(\u001b[0m\u001b[0;34mf\"/{self.Name}/\"\u001b[0m\u001b[0;34m,\u001b[0m \u001b[0;34m\"GET\"\u001b[0m\u001b[0;34m)\u001b[0m \u001b[0;32mif\u001b[0m \u001b[0mfile_path\u001b[0m\u001b[0;34m==\u001b[0m\u001b[0mi\u001b[0m\u001b[0;34m.\u001b[0m\u001b[0mget\u001b[0m\u001b[0;34m(\u001b[0m\u001b[0;34m'ObjectName'\u001b[0m\u001b[0;34m,\u001b[0m\u001b[0;34m''\u001b[0m\u001b[0;34m)\u001b[0m \u001b[0;34m]\u001b[0m\u001b[0;34m[\u001b[0m\u001b[0;36m0\u001b[0m\u001b[0;34m]\u001b[0m\u001b[0;34m\u001b[0m\u001b[0;34m\u001b[0m\u001b[0m\n\u001b[1;32m     72\u001b[0m \u001b[0;34m\u001b[0m\u001b[0m\n",
      "\u001b[0;31mException\u001b[0m: Error:Object Not Found"
     ]
    }
   ],
   "source": [
    "sample_storage.get_object('nonexistent')"
   ]
  },
  {
   "cell_type": "markdown",
   "metadata": {},
   "source": [
    "### Adding Files"
   ]
  },
  {
   "cell_type": "code",
   "execution_count": 10,
   "metadata": {},
   "outputs": [
    {
     "data": {
      "text/plain": [
       "['.gitignore',\n",
       " 'docker-compose.yaml',\n",
       " 'LICENSE',\n",
       " 'README.md',\n",
       " 'tests.ipynb',\n",
       " 'tests.py',\n",
       " 'pyproject.toml',\n",
       " '.git',\n",
       " 'dist',\n",
       " 'poetry.lock',\n",
       " '.ipynb_checkpoints',\n",
       " 'bunnyhop',\n",
       " '.vscode',\n",
       " 'Dockerfile',\n",
       " 'doctests.py',\n",
       " '.env']"
      ]
     },
     "execution_count": 10,
     "metadata": {},
     "output_type": "execute_result"
    }
   ],
   "source": [
    "os.listdir()"
   ]
  },
  {
   "cell_type": "code",
   "execution_count": 11,
   "metadata": {},
   "outputs": [
    {
     "data": {
      "text/plain": [
       "{'HttpCode': 201, 'Message': 'File uploaded.'}"
      ]
     },
     "execution_count": 11,
     "metadata": {},
     "output_type": "execute_result"
    }
   ],
   "source": [
    "#upload to zone, folder_path is \"json_files\"\n",
    "response = sample_storage.upload_file(dest_path=\"\", file_name=\"test2\", local_path=\"doctests.py\")\n",
    "response"
   ]
  },
  {
   "cell_type": "markdown",
   "metadata": {},
   "source": [
    "### Deleting files + failure"
   ]
  },
  {
   "cell_type": "code",
   "execution_count": 17,
   "metadata": {},
   "outputs": [
    {
     "ename": "Exception",
     "evalue": "Error:Object Not Found",
     "output_type": "error",
     "traceback": [
      "\u001b[0;31m---------------------------------------------------------------------------\u001b[0m",
      "\u001b[0;31mException\u001b[0m                                 Traceback (most recent call last)",
      "\u001b[0;32m<ipython-input-17-512ec8482e1c>\u001b[0m in \u001b[0;36m<module>\u001b[0;34m\u001b[0m\n\u001b[0;32m----> 1\u001b[0;31m \u001b[0msample_storage\u001b[0m\u001b[0;34m.\u001b[0m\u001b[0mdelete_file\u001b[0m\u001b[0;34m(\u001b[0m\u001b[0;34m'test2'\u001b[0m\u001b[0;34m)\u001b[0m\u001b[0;34m\u001b[0m\u001b[0;34m\u001b[0m\u001b[0m\n\u001b[0m",
      "\u001b[0;32m/code/bunnyhop/storage.py\u001b[0m in \u001b[0;36mdelete_file\u001b[0;34m(self, file_path)\u001b[0m\n\u001b[1;32m     92\u001b[0m         \u001b[0mresponse\u001b[0m \u001b[0;34m=\u001b[0m \u001b[0mself\u001b[0m\u001b[0;34m.\u001b[0m\u001b[0mcall_storage_api\u001b[0m\u001b[0;34m(\u001b[0m\u001b[0;34mf\"/{self.Name}/{file_path}\"\u001b[0m\u001b[0;34m,\u001b[0m \u001b[0;34m\"DELETE\"\u001b[0m\u001b[0;34m)\u001b[0m\u001b[0;34m\u001b[0m\u001b[0;34m\u001b[0m\u001b[0m\n\u001b[1;32m     93\u001b[0m         \u001b[0;32mif\u001b[0m \u001b[0mresponse\u001b[0m\u001b[0;34m.\u001b[0m\u001b[0mget\u001b[0m\u001b[0;34m(\u001b[0m\u001b[0;34m'HttpCode'\u001b[0m\u001b[0;34m,\u001b[0m\u001b[0;36m0\u001b[0m\u001b[0;34m)\u001b[0m \u001b[0;34m==\u001b[0m \u001b[0;36m404\u001b[0m\u001b[0;34m:\u001b[0m\u001b[0;34m\u001b[0m\u001b[0;34m\u001b[0m\u001b[0m\n\u001b[0;32m---> 94\u001b[0;31m             \u001b[0;32mraise\u001b[0m \u001b[0mException\u001b[0m\u001b[0;34m(\u001b[0m\u001b[0;34mf\"Error:{response.get('Message','')}\"\u001b[0m\u001b[0;34m)\u001b[0m\u001b[0;34m\u001b[0m\u001b[0;34m\u001b[0m\u001b[0m\n\u001b[0m\u001b[1;32m     95\u001b[0m         \u001b[0;32mreturn\u001b[0m \u001b[0mresponse\u001b[0m\u001b[0;34m\u001b[0m\u001b[0;34m\u001b[0m\u001b[0m\n\u001b[1;32m     96\u001b[0m \u001b[0;34m\u001b[0m\u001b[0m\n",
      "\u001b[0;31mException\u001b[0m: Error:Object Not Found"
     ]
    }
   ],
   "source": [
    "sample_storage.delete_file('test2')"
   ]
  },
  {
   "cell_type": "code",
   "execution_count": 16,
   "metadata": {},
   "outputs": [
    {
     "ename": "Exception",
     "evalue": "Error:Object Not Found",
     "output_type": "error",
     "traceback": [
      "\u001b[0;31m---------------------------------------------------------------------------\u001b[0m",
      "\u001b[0;31mException\u001b[0m                                 Traceback (most recent call last)",
      "\u001b[0;32m<ipython-input-16-9583e1a217fa>\u001b[0m in \u001b[0;36m<module>\u001b[0;34m\u001b[0m\n\u001b[0;32m----> 1\u001b[0;31m \u001b[0msample_storage\u001b[0m\u001b[0;34m.\u001b[0m\u001b[0mdelete_file\u001b[0m\u001b[0;34m(\u001b[0m\u001b[0;34m'asd'\u001b[0m\u001b[0;34m)\u001b[0m\u001b[0;34m\u001b[0m\u001b[0;34m\u001b[0m\u001b[0m\n\u001b[0m",
      "\u001b[0;32m/code/bunnyhop/storage.py\u001b[0m in \u001b[0;36mdelete_file\u001b[0;34m(self, file_path)\u001b[0m\n\u001b[1;32m     92\u001b[0m         \u001b[0mresponse\u001b[0m \u001b[0;34m=\u001b[0m \u001b[0mself\u001b[0m\u001b[0;34m.\u001b[0m\u001b[0mcall_storage_api\u001b[0m\u001b[0;34m(\u001b[0m\u001b[0;34mf\"/{self.Name}/{file_path}\"\u001b[0m\u001b[0;34m,\u001b[0m \u001b[0;34m\"DELETE\"\u001b[0m\u001b[0;34m)\u001b[0m\u001b[0;34m\u001b[0m\u001b[0;34m\u001b[0m\u001b[0m\n\u001b[1;32m     93\u001b[0m         \u001b[0;32mif\u001b[0m \u001b[0mresponse\u001b[0m\u001b[0;34m.\u001b[0m\u001b[0mget\u001b[0m\u001b[0;34m(\u001b[0m\u001b[0;34m'HttpCode'\u001b[0m\u001b[0;34m,\u001b[0m\u001b[0;36m0\u001b[0m\u001b[0;34m)\u001b[0m \u001b[0;34m==\u001b[0m \u001b[0;36m404\u001b[0m\u001b[0;34m:\u001b[0m\u001b[0;34m\u001b[0m\u001b[0;34m\u001b[0m\u001b[0m\n\u001b[0;32m---> 94\u001b[0;31m             \u001b[0;32mraise\u001b[0m \u001b[0mException\u001b[0m\u001b[0;34m(\u001b[0m\u001b[0;34mf\"Error:{response.get('Message','')}\"\u001b[0m\u001b[0;34m)\u001b[0m\u001b[0;34m\u001b[0m\u001b[0;34m\u001b[0m\u001b[0m\n\u001b[0m\u001b[1;32m     95\u001b[0m         \u001b[0;32mreturn\u001b[0m \u001b[0mresponse\u001b[0m\u001b[0;34m\u001b[0m\u001b[0;34m\u001b[0m\u001b[0m\n\u001b[1;32m     96\u001b[0m \u001b[0;34m\u001b[0m\u001b[0m\n",
      "\u001b[0;31mException\u001b[0m: Error:Object Not Found"
     ]
    }
   ],
   "source": [
    "sample_storage.delete_file('asd')"
   ]
  },
  {
   "cell_type": "code",
   "execution_count": null,
   "metadata": {},
   "outputs": [],
   "source": []
  }
 ],
 "metadata": {
  "kernelspec": {
   "display_name": "Python 3",
   "language": "python",
   "name": "python3"
  },
  "language_info": {
   "codemirror_mode": {
    "name": "ipython",
    "version": 3
   },
   "file_extension": ".py",
   "mimetype": "text/x-python",
   "name": "python",
   "nbconvert_exporter": "python",
   "pygments_lexer": "ipython3",
   "version": "3.7.7"
  }
 },
 "nbformat": 4,
 "nbformat_minor": 4
}
